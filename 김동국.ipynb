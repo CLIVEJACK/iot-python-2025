{
 "cells": [
  {
   "cell_type": "markdown",
   "metadata": {},
   "source": [
    "### 1. 반지름 값을 입력받아 원의 넓이를 구하여 출력하는 프로그램을 구현하세여 파이는 3.141592 입니다 내부모듈 사용 가능"
   ]
  },
  {
   "cell_type": "code",
   "execution_count": null,
   "metadata": {},
   "outputs": [],
   "source": [
    "# 3.14 * r ** 2\n",
    "x,y = input('3.141592 입력과 반지름 입력 띄어쓰기로 x,y 분류 > '). split()\n",
    "x = float(x)\n",
    "y = int(y)\n",
    "\n",
    "z = x * (y ** 2)\n",
    "\n",
    "print(z)\n"
   ]
  },
  {
   "cell_type": "markdown",
   "metadata": {},
   "source": [
    "### 2. 영문이름을 입력하면 웹사이트 주소가 리턴되는 함수, get_url()를 구현하세요.\n",
    "예)url = get_url('google')\n",
    "\n",
    "pritn(url) # www.google.com"
   ]
  },
  {
   "cell_type": "code",
   "execution_count": null,
   "metadata": {},
   "outputs": [],
   "source": [
    "# get_url이 뭐죠?\n",
    "x = str(input('영문명을 입력하세요 > '))\n",
    "y = print(f'www.{x}.com')\n",
    "#---------------------------------------------\n",
    "\n",
    "    \n",
    "\n"
   ]
  },
  {
   "cell_type": "markdown",
   "metadata": {},
   "source": [
    "### 3.구구단을 수행할 단번호를 입력하면 그 단의 9까지의 결과를 나열하는 프로그램을 입력하세요. "
   ]
  },
  {
   "cell_type": "code",
   "execution_count": null,
   "metadata": {},
   "outputs": [],
   "source": [
    "x = int(input('구구단을 수해할 단번호를 입력하세요. >>'))\n",
    "\n",
    "for i in range(1,9 + 1):\n",
    "    print( x * i )\n"
   ]
  },
  {
   "cell_type": "markdown",
   "metadata": {},
   "source": [
    "### 4. 입력한 수를 거꾸로 출력하는 프로그램을 구현하세요."
   ]
  },
  {
   "cell_type": "code",
   "execution_count": null,
   "metadata": {},
   "outputs": [],
   "source": [
    "x = input('숫자를 입력하세요 > ')\n",
    "\n",
    "print(int(str(x)[::-1]))\n"
   ]
  },
  {
   "cell_type": "markdown",
   "metadata": {},
   "source": [
    "### 5. SmartPone 이라는 클래스를 만들고, 객체를 생성해서 phonOwner,phoneNumber,company 등의 멤버변수(속성)을 가지도록 만드세요. 본인이 다른 기능을 좀 더 추가하여도 무방"
   ]
  },
  {
   "cell_type": "code",
   "execution_count": null,
   "metadata": {},
   "outputs": [],
   "source": [
    "def main():\n",
    "    set_SmartPhone\n",
    "    \n",
    "class SmartPhone :\n",
    "    def __init__(self,phoneOwner,phoneNumber,company):\n",
    "        self.__phoneOwner = phoneOwner\n",
    "        self.__phoneNumber = phoneNumber\n",
    "        self.__company = company\n",
    "\n",
    "    def __str__(self):\n",
    "        str = (f'휴대폰 주인: {self.__phoneOwner}\\n 휴대폰 번호: {self.__phoneNumber} \\n 회사:{self.__company}')\n",
    "        return str\n",
    "    \n",
    "    def getphoneOwner(self):\n",
    "        return self.__phoneOwner\n",
    "    def getphoneNumber(self):\n",
    "        return self.__phoneNumber\n",
    "    def getcompany(self):\n",
    "        return self.__company\n",
    "    \n",
    "def set_SmartPhone():\n",
    "    phoneOwner,phoneNumber,company = input('휴대폰 주인, 휴대폰 번호, 회사를 입력하세요 > ').split()\n",
    "    smartphone = SmartPhone(phoneOwner=phoneOwner, phoneNumber=phoneNumber, company=company)\n",
    "    return smartphone\n",
    "\n",
    "if __name__== '__main__':\n",
    "    print('입력')\n",
    "    main()"
   ]
  }
 ],
 "metadata": {
  "kernelspec": {
   "display_name": "Python 3",
   "language": "python",
   "name": "python3"
  },
  "language_info": {
   "codemirror_mode": {
    "name": "ipython",
    "version": 3
   },
   "file_extension": ".py",
   "mimetype": "text/x-python",
   "name": "python",
   "nbconvert_exporter": "python",
   "pygments_lexer": "ipython3",
   "version": "3.11.9"
  }
 },
 "nbformat": 4,
 "nbformat_minor": 2
}
